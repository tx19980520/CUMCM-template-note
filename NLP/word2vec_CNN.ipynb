{
 "cells": [
  {
   "cell_type": "code",
   "execution_count": 1,
   "metadata": {},
   "outputs": [],
   "source": [
    "#我们尝试取出前x个词向量，组成一个二维矩阵，当做图片进行CNN的训练"
   ]
  },
  {
   "cell_type": "code",
   "execution_count": 1,
   "metadata": {},
   "outputs": [
    {
     "name": "stderr",
     "output_type": "stream",
     "text": [
      "C:\\Users\\ty020\\AppData\\Local\\Continuum\\anaconda3\\lib\\site-packages\\gensim\\utils.py:1197: UserWarning: detected Windows; aliasing chunkize to chunkize_serial\n",
      "  warnings.warn(\"detected Windows; aliasing chunkize to chunkize_serial\")\n"
     ]
    }
   ],
   "source": [
    "import numpy as np\n",
    "import pandas as pd\n",
    "import jieba\n",
    "from gensim.models import word2vec\n",
    "olderr = np.seterr(all='ignore')\n",
    "import os"
   ]
  },
  {
   "cell_type": "code",
   "execution_count": 2,
   "metadata": {},
   "outputs": [
    {
     "name": "stderr",
     "output_type": "stream",
     "text": [
      "Building prefix dict from the default dictionary ...\n",
      "Loading model from cache C:\\Users\\ty020\\AppData\\Local\\Temp\\jieba.cache\n",
      "Loading model cost 0.581 seconds.\n",
      "Prefix dict has been built succesfully.\n"
     ]
    },
    {
     "data": {
      "text/plain": [
       "3609"
      ]
     },
     "execution_count": 2,
     "metadata": {},
     "output_type": "execute_result"
    }
   ],
   "source": [
    "f = open(\"D:\\\\杂七杂八课程\\\\CUMCM-template-note\\\\NLP\\\\doubanMoviereview--master\\\\scrapy_data\\\\data_long\\\\三傻大闹宝莱坞.csv\")\n",
    "raw_data = pd.read_csv(f,usecols=['评论内容', '推荐星数'])\n",
    "raw_data\n",
    "raw_labels = raw_data[\"推荐星数\"].tolist()\n",
    "y_labels = []\n",
    "for label in raw_labels:\n",
    "    if label == \"很差\":\n",
    "        y_labels.append(1)\n",
    "    elif label == \"较差\":\n",
    "        y_labels.append(2)\n",
    "    elif label == \"还行\":\n",
    "        y_labels.append(3)\n",
    "    elif label == \"推荐\":\n",
    "        y_labels.append(4)\n",
    "    else:\n",
    "        y_labels.append(5)\n",
    "x_comments = raw_data[\"评论内容\"].tolist()\n",
    "positive_comments = []\n",
    "negative_comments = []\n",
    "tmp_comments = []\n",
    "doc_words = []\n",
    "for label,comment in zip(y_labels, x_comments):\n",
    "    if(label == 1):\n",
    "        result = list(jieba.cut(comment,cut_all=False))\n",
    "        positive_comments += result\n",
    "        doc_words.append(result)\n",
    "    else:\n",
    "        result = list(jieba.cut(comment.strip(), cut_all=False))\n",
    "        negative_comments += result\n",
    "        doc_words.append(result)\n",
    "for i in range(len(positive_comments)):\n",
    "    if positive_comments[i] not in \"、，“”。？！；：...1234567890‘’-《》 \":\n",
    "        tmp_comments.append(positive_comments[i])\n",
    "positive_comments = tmp_comments\n",
    "tmp_comments = []\n",
    "for i in range(len(negative_comments)):\n",
    "    if negative_comments[i] not in \"、，“”。？！；：...1234567890‘’-《》 \":\n",
    "        tmp_comments.append(negative_comments[i])\n",
    "negative_comments = tmp_comments\n",
    "len(doc_words)"
   ]
  },
  {
   "cell_type": "code",
   "execution_count": 3,
   "metadata": {},
   "outputs": [],
   "source": [
    "comments = positive_comments + negative_comments\n",
    "model=word2vec.Word2Vec(doc_words, size=256, min_count=1,hs=0)"
   ]
  },
  {
   "cell_type": "code",
   "execution_count": 4,
   "metadata": {},
   "outputs": [],
   "source": [
    "for i in range(3609):\n",
    "    tmp = []\n",
    "    for word in doc_words[i]:\n",
    "        if word not in \"、，“”。？！；：...1234567890‘’-《》 \":\n",
    "            tmp.append(word)\n",
    "    doc_words[i] = tmp"
   ]
  },
  {
   "cell_type": "code",
   "execution_count": 58,
   "metadata": {},
   "outputs": [],
   "source": [
    "# 我们对每个评论随机抽取20个单词，每个单词维度是256\n",
    "doc_matrix = []\n",
    "len_words = 40\n",
    "for i in range(len(doc_words)):\n",
    "    matrix = []\n",
    "    if len(doc_words[i]) >= len_words:\n",
    "        words = np.array(doc_words[i])\n",
    "        choose = np.array(words[:20])\n",
    "        for word in choose:\n",
    "            matrix.append(np.array(model.wv[word]))\n",
    "    else:\n",
    "        for word in doc_words[i]:\n",
    "            matrix.append(np.array(model.wv[word]))\n",
    "        for i in range(len(doc_words[i]),len_words):\n",
    "            matrix.append(np.zeros(256))\n",
    "    doc_matrix.append(np.array(matrix))"
   ]
  },
  {
   "cell_type": "code",
   "execution_count": 59,
   "metadata": {},
   "outputs": [
    {
     "name": "stdout",
     "output_type": "stream",
     "text": [
      "(3609, 20, 256)\n"
     ]
    }
   ],
   "source": [
    "print(np.array(doc_matrix).shape)"
   ]
  },
  {
   "cell_type": "code",
   "execution_count": 27,
   "metadata": {},
   "outputs": [
    {
     "ename": "ValueError",
     "evalue": "cannot reshape array of size 72180 into shape (3609,20,256,1)",
     "output_type": "error",
     "traceback": [
      "\u001b[1;31m---------------------------------------------------------------------------\u001b[0m",
      "\u001b[1;31mValueError\u001b[0m                                Traceback (most recent call last)",
      "\u001b[1;32m<ipython-input-27-1e550c8e47a0>\u001b[0m in \u001b[0;36m<module>\u001b[1;34m()\u001b[0m\n\u001b[0;32m      1\u001b[0m \u001b[1;31m#split train and split\u001b[0m\u001b[1;33m\u001b[0m\u001b[1;33m\u001b[0m\u001b[0m\n\u001b[0;32m      2\u001b[0m \u001b[1;32mfrom\u001b[0m \u001b[0msklearn\u001b[0m\u001b[1;33m.\u001b[0m\u001b[0mmodel_selection\u001b[0m \u001b[1;32mimport\u001b[0m \u001b[0mtrain_test_split\u001b[0m\u001b[1;33m\u001b[0m\u001b[0m\n\u001b[1;32m----> 3\u001b[1;33m train_comments, test_comments, train_labels, test_labels = train_test_split(np.array(doc_matrix).reshape((3609, 20, 256, 1))\n\u001b[0m\u001b[0;32m      4\u001b[0m                                                                             , y_labels, test_size=0.33, random_state=42)\n",
      "\u001b[1;31mValueError\u001b[0m: cannot reshape array of size 72180 into shape (3609,20,256,1)"
     ]
    }
   ],
   "source": [
    "#split train and split\n",
    "from sklearn.model_selection import train_test_split\n",
    "train_comments, test_comments, train_labels, test_labels = train_test_split(np.array(doc_matrix).reshape((3609, 20, 256, 1))\n",
    "                                                                            , y_labels, test_size=0.33, random_state=42)\n"
   ]
  },
  {
   "cell_type": "code",
   "execution_count": 60,
   "metadata": {},
   "outputs": [
    {
     "data": {
      "text/plain": [
       "(2418, 20, 256, 1)"
      ]
     },
     "execution_count": 60,
     "metadata": {},
     "output_type": "execute_result"
    }
   ],
   "source": [
    "train_comments.shape"
   ]
  },
  {
   "cell_type": "code",
   "execution_count": 61,
   "metadata": {
    "scrolled": false
   },
   "outputs": [
    {
     "name": "stdout",
     "output_type": "stream",
     "text": [
      "_________________________________________________________________\n",
      "Layer (type)                 Output Shape              Param #   \n",
      "=================================================================\n",
      "conv2d_4 (Conv2D)            (None, 18, 254, 32)       320       \n",
      "_________________________________________________________________\n",
      "max_pooling2d_3 (MaxPooling2 (None, 9, 127, 32)        0         \n",
      "_________________________________________________________________\n",
      "dropout_3 (Dropout)          (None, 9, 127, 32)        0         \n",
      "_________________________________________________________________\n",
      "conv2d_5 (Conv2D)            (None, 7, 125, 32)        9248      \n",
      "_________________________________________________________________\n",
      "max_pooling2d_4 (MaxPooling2 (None, 4, 63, 32)         0         \n",
      "_________________________________________________________________\n",
      "dropout_4 (Dropout)          (None, 4, 63, 32)         0         \n",
      "_________________________________________________________________\n",
      "flatten_1 (Flatten)          (None, 8064)              0         \n",
      "_________________________________________________________________\n",
      "dense_2 (Dense)              (None, 128)               1032320   \n",
      "_________________________________________________________________\n",
      "dense_3 (Dense)              (None, 6)                 774       \n",
      "=================================================================\n",
      "Total params: 1,042,662\n",
      "Trainable params: 1,042,662\n",
      "Non-trainable params: 0\n",
      "_________________________________________________________________\n",
      "None\n",
      "Epoch 1/20\n",
      "2418/2418 [==============================] - 65s 27ms/step - loss: 0.8358 - acc: 0.7308\n",
      "Epoch 2/20\n",
      "2418/2418 [==============================] - 63s 26ms/step - loss: 0.7990 - acc: 0.7353\n",
      "Epoch 3/20\n",
      "2418/2418 [==============================] - 63s 26ms/step - loss: 0.7788 - acc: 0.7353\n",
      "Epoch 4/20\n",
      "2418/2418 [==============================] - 63s 26ms/step - loss: 0.7690 - acc: 0.7353\n",
      "Epoch 5/20\n",
      "2418/2418 [==============================] - 64s 26ms/step - loss: 0.7566 - acc: 0.7353\n",
      "Epoch 6/20\n",
      "2418/2418 [==============================] - 64s 26ms/step - loss: 0.7646 - acc: 0.7349\n",
      "Epoch 7/20\n",
      "2418/2418 [==============================] - 63s 26ms/step - loss: 0.7540 - acc: 0.7357\n",
      "Epoch 8/20\n",
      "2418/2418 [==============================] - 65s 27ms/step - loss: 0.7239 - acc: 0.7386\n",
      "Epoch 9/20\n",
      "2418/2418 [==============================] - 64s 26ms/step - loss: 0.7009 - acc: 0.7378\n",
      "Epoch 10/20\n",
      "2418/2418 [==============================] - 64s 27ms/step - loss: 0.6984 - acc: 0.7337\n",
      "Epoch 11/20\n",
      "2418/2418 [==============================] - 64s 27ms/step - loss: 0.6626 - acc: 0.7477\n",
      "Epoch 12/20\n",
      "2418/2418 [==============================] - 64s 27ms/step - loss: 0.6264 - acc: 0.7564\n",
      "Epoch 13/20\n",
      "2418/2418 [==============================] - 64s 27ms/step - loss: 0.6026 - acc: 0.7643\n",
      "Epoch 14/20\n",
      "2418/2418 [==============================] - 64s 27ms/step - loss: 0.5762 - acc: 0.7758\n",
      "Epoch 15/20\n",
      "2418/2418 [==============================] - 64s 26ms/step - loss: 0.5239 - acc: 0.7940\n",
      "Epoch 16/20\n",
      "2418/2418 [==============================] - 64s 26ms/step - loss: 0.4892 - acc: 0.8093\n",
      "Epoch 17/20\n",
      "2418/2418 [==============================] - 65s 27ms/step - loss: 0.4571 - acc: 0.8110\n",
      "Epoch 18/20\n",
      "2418/2418 [==============================] - 69s 29ms/step - loss: 0.4145 - acc: 0.8321\n",
      "Epoch 19/20\n",
      "2418/2418 [==============================] - 69s 29ms/step - loss: 0.3953 - acc: 0.8408\n",
      "Epoch 20/20\n",
      "2418/2418 [==============================] - 68s 28ms/step - loss: 0.3328 - acc: 0.8685\n"
     ]
    }
   ],
   "source": [
    "import tensorflow as tf\n",
    "from tensorflow import keras\n",
    "from keras import regularizers\n",
    "train_labels_done = keras.utils.to_categorical(train_labels, 6)\n",
    "cnn_model = tf.keras.Sequential([\n",
    "    keras.layers.Conv2D(32,(3,3), data_format='channels_last', input_shape=(20,256,1),activation=\"relu\"),\n",
    "    keras.layers.MaxPool2D(pool_size=(2,2),strides=(2,2),padding='same'),\n",
    "    keras.layers.Dropout(rate=0.2,seed=1),\n",
    "    keras.layers.Conv2D(32,(3,3),activation=\"relu\"),\n",
    "    keras.layers.MaxPool2D(pool_size=(2,2),strides=(2,2),padding='same'),\n",
    "    keras.layers.Dropout(rate=0.2,seed=1),\n",
    "    keras.layers.Flatten(),\n",
    "    keras.layers.Dense(128, activation='relu'),\n",
    "    keras.layers.Dense(6, activation=\"softmax\"),\n",
    "    ])\n",
    "\n",
    "cnn_model.compile(optimizer=tf.train.AdamOptimizer(), \n",
    "                  loss='categorical_crossentropy',\n",
    "                  metrics=['accuracy'])\n",
    "print(cnn_model.summary())\n",
    "with tf.device('/cpu:0'):\n",
    "    cnn_model.fit(train_comments, train_labels_done, batch_size=32, epochs=20)"
   ]
  },
  {
   "cell_type": "code",
   "execution_count": 62,
   "metadata": {},
   "outputs": [
    {
     "name": "stdout",
     "output_type": "stream",
     "text": [
      "1191/1191 [==============================] - 1s 554us/step\n"
     ]
    }
   ],
   "source": [
    "test_labels_done = keras.utils.to_categorical(test_labels, 6)\n",
    "test_loss, test_acc = cnn_model.evaluate(np.array(test_comments), test_labels_done)"
   ]
  },
  {
   "cell_type": "code",
   "execution_count": 63,
   "metadata": {},
   "outputs": [
    {
     "data": {
      "text/plain": [
       "(1.1161583589466553, 0.6666666667667585)"
      ]
     },
     "execution_count": 63,
     "metadata": {},
     "output_type": "execute_result"
    }
   ],
   "source": [
    "test_loss, test_acc"
   ]
  },
  {
   "cell_type": "code",
   "execution_count": null,
   "metadata": {},
   "outputs": [],
   "source": []
  }
 ],
 "metadata": {
  "kernelspec": {
   "display_name": "Python 3",
   "language": "python",
   "name": "python3"
  },
  "language_info": {
   "codemirror_mode": {
    "name": "ipython",
    "version": 3
   },
   "file_extension": ".py",
   "mimetype": "text/x-python",
   "name": "python",
   "nbconvert_exporter": "python",
   "pygments_lexer": "ipython3",
   "version": "3.6.4"
  }
 },
 "nbformat": 4,
 "nbformat_minor": 2
}
